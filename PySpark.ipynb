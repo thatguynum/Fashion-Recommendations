{
  "metadata": {
    "kernelspec": {
      "language": "python",
      "display_name": "Python 3",
      "name": "python3"
    },
    "language_info": {
      "name": "python",
      "version": "3.7.12",
      "mimetype": "text/x-python",
      "codemirror_mode": {
        "name": "ipython",
        "version": 3
      },
      "pygments_lexer": "ipython3",
      "nbconvert_exporter": "python",
      "file_extension": ".py"
    },
    "colab": {
      "name": "DIC PySpark.ipynb",
      "provenance": []
    }
  },
  "nbformat_minor": 0,
  "nbformat": 4,
  "cells": [
    {
      "cell_type": "markdown",
      "source": [
        "# <p style=\"background-color:#f7e9ec;font-family:newtimeroman;color:#d90b1c;font-size:150%;text-align:center;border-radius:10px 10px;border-style:solid;border-color:#d90b1c;\">Recommendation system for H and M Fashion</p>"
      ],
      "metadata": {
        "id": "3GSPv2bf38w7"
      }
    },
    {
      "cell_type": "markdown",
      "source": [
        "**For H and M Fashion EDA please check out my notebook** https://www.kaggle.com/nadianizam/h-m-fashion-eda"
      ],
      "metadata": {
        "id": "6s1fzXl938xA"
      }
    },
    {
      "cell_type": "markdown",
      "source": [
        "<h1 style=\"background-color:#f7e9ec;font-family:newtimeroman;color:#d90b1c;\">Terminologies</h1>\n",
        "\n",
        "There are certain terminologies which needs to be understood before moving forward.\n",
        "\n",
        "**Apache Spark:** Apache Spark is an open-source distributed general-purpose cluster-computing framework.It can be used with Hadoop too.\n",
        "\n",
        "**Collaborative filtering:** Collaborative filtering is a method of making automatic predictions (filtering) about the interests of a user by collecting preferences or taste information from many users. Consider example if a person A likes item 1, 2, 3 and B like 2,3,4 then they have similar interests and A should like item 4 and B should like item 1.\n",
        "\n",
        "**Alternating least square(ALS) matrix factorization:** The idea is basically to take a large (or potentially huge) matrix and factor it into some smaller representation of the original matrix through alternating least squares. We end up with two or more lower dimensional matrices whose product equals the original one.ALS comes inbuilt in Apache Spark.\n",
        "\n",
        "**PySpark:** PySpark is the collaboration of Apache Spark and Python. PySpark is the Python API for Spark."
      ],
      "metadata": {
        "id": "a0_fBKye38xB"
      }
    },
    {
      "cell_type": "markdown",
      "source": [
        "<h1 style=\"background-color:#f7e9ec;font-family:newtimeroman;color:#d90b1c;\">1.Initialize spark session</h1>"
      ],
      "metadata": {
        "id": "YcSVUbTE38xB"
      }
    },
    {
      "cell_type": "code",
      "source": [
        "!pip install pyspark"
      ],
      "metadata": {
        "_uuid": "8f2839f25d086af736a60e9eeb907d3b93b6e0e5",
        "_cell_guid": "b1076dfc-b9ad-4769-8c92-a6c4dae69d19",
        "execution": {
          "iopub.status.busy": "2022-03-18T06:26:13.594956Z",
          "iopub.execute_input": "2022-03-18T06:26:13.595288Z",
          "iopub.status.idle": "2022-03-18T06:26:20.878052Z",
          "shell.execute_reply.started": "2022-03-18T06:26:13.595197Z",
          "shell.execute_reply": "2022-03-18T06:26:20.877074Z"
        },
        "trusted": true,
        "id": "PdnN74LK38xC",
        "outputId": "2f67668a-a3c4-44fb-f339-ee7fe78d8f57"
      },
      "execution_count": null,
      "outputs": [
        {
          "name": "stdout",
          "text": "Requirement already satisfied: pyspark in /opt/conda/lib/python3.7/site-packages (3.2.1)\nRequirement already satisfied: py4j==0.10.9.3 in /opt/conda/lib/python3.7/site-packages (from pyspark) (0.10.9.3)\n\u001b[33mWARNING: Running pip as the 'root' user can result in broken permissions and conflicting behaviour with the system package manager. It is recommended to use a virtual environment instead: https://pip.pypa.io/warnings/venv\u001b[0m\n",
          "output_type": "stream"
        }
      ]
    },
    {
      "cell_type": "markdown",
      "source": [
        "\n",
        "<h1 style=\"background-color:#f7e9ec;font-family:newtimeroman;color:#d90b1c;\">2-Load libraries</h1>"
      ],
      "metadata": {
        "id": "9jiWPjts38xE"
      }
    },
    {
      "cell_type": "code",
      "source": [
        "import pyspark\n",
        "from pyspark.sql import SparkSession\n",
        "from pyspark.sql.types import StructType,StructField, StringType, IntegerType \n",
        "from pyspark.sql.types import ArrayType, DoubleType, BooleanType\n",
        "from pyspark.sql.functions import col,array_contains\n",
        "from pyspark.sql import SQLContext \n",
        "from pyspark.ml.recommendation import ALS\n",
        "from pyspark.sql.functions import udf,col,when\n",
        "from pyspark.sql.functions import to_timestamp,date_format\n",
        "import numpy as np\n",
        "import pandas as pd\n",
        "from pyspark.sql.types import *\n",
        "from pyspark.sql.functions import *\n",
        "from pyspark.sql.window import *\n",
        "\n",
        "sc = SparkSession.builder.appName(\"Recommendations\").config(\"spark.sql.files.maxPartitionBytes\", 5000000).getOrCreate()\n",
        "spark = SparkSession(sc)\n",
        "\n"
      ],
      "metadata": {
        "_kg_hide-output": true,
        "execution": {
          "iopub.status.busy": "2022-03-18T06:28:17.428240Z",
          "iopub.execute_input": "2022-03-18T06:28:17.428509Z",
          "iopub.status.idle": "2022-03-18T06:28:24.095062Z",
          "shell.execute_reply.started": "2022-03-18T06:28:17.428478Z",
          "shell.execute_reply": "2022-03-18T06:28:24.094074Z"
        },
        "trusted": true,
        "id": "TTXkJlN538xE",
        "outputId": "9fe05033-434e-4219-c700-fd4a5602cc7d"
      },
      "execution_count": null,
      "outputs": [
        {
          "name": "stderr",
          "text": "WARNING: An illegal reflective access operation has occurred\nWARNING: Illegal reflective access by org.apache.spark.unsafe.Platform (file:/opt/conda/lib/python3.7/site-packages/pyspark/jars/spark-unsafe_2.12-3.2.1.jar) to constructor java.nio.DirectByteBuffer(long,int)\nWARNING: Please consider reporting this to the maintainers of org.apache.spark.unsafe.Platform\nWARNING: Use --illegal-access=warn to enable warnings of further illegal reflective access operations\nWARNING: All illegal access operations will be denied in a future release\nUsing Spark's default log4j profile: org/apache/spark/log4j-defaults.properties\nSetting default log level to \"WARN\".\nTo adjust logging level use sc.setLogLevel(newLevel). For SparkR, use setLogLevel(newLevel).\n22/03/18 06:28:20 WARN NativeCodeLoader: Unable to load native-hadoop library for your platform... using builtin-java classes where applicable\n",
          "output_type": "stream"
        }
      ]
    },
    {
      "cell_type": "markdown",
      "source": [
        "\n",
        "<h1 style=\"background-color:#f7e9ec;font-family:newtimeroman;color:#d90b1c;\">3-Load Dataset in Apache Spark</h1>"
      ],
      "metadata": {
        "id": "wB_-fl3L38xF"
      }
    },
    {
      "cell_type": "code",
      "source": [
        "transaction = spark.read.option(\"header\",True).csv(\"../input/h-and-m-personalized-fashion-recommendations/transactions_train.csv\")\n",
        "transaction.printSchema()"
      ],
      "metadata": {
        "execution": {
          "iopub.status.busy": "2022-03-18T06:28:57.381307Z",
          "iopub.execute_input": "2022-03-18T06:28:57.381615Z",
          "iopub.status.idle": "2022-03-18T06:29:03.004644Z",
          "shell.execute_reply.started": "2022-03-18T06:28:57.381580Z",
          "shell.execute_reply": "2022-03-18T06:29:03.003925Z"
        },
        "trusted": true,
        "id": "G3J4fFIv38xG",
        "outputId": "cdc4a233-bb94-483b-fe5a-2ac13c2c86af"
      },
      "execution_count": null,
      "outputs": [
        {
          "name": "stderr",
          "text": "                                                                                \r",
          "output_type": "stream"
        },
        {
          "name": "stdout",
          "text": "root\n |-- t_dat: string (nullable = true)\n |-- customer_id: string (nullable = true)\n |-- article_id: string (nullable = true)\n |-- price: string (nullable = true)\n |-- sales_channel_id: string (nullable = true)\n\n",
          "output_type": "stream"
        }
      ]
    },
    {
      "cell_type": "code",
      "source": [
        "from pyspark.sql.functions import min, max\n",
        "from pyspark.sql.functions import unix_timestamp, lit\n",
        "min_date, max_date = transaction.select(min(\"t_dat\"), max(\"t_dat\")).first()\n",
        "min_date, max_date"
      ],
      "metadata": {
        "execution": {
          "iopub.status.busy": "2022-03-18T06:30:42.443123Z",
          "iopub.execute_input": "2022-03-18T06:30:42.443749Z",
          "iopub.status.idle": "2022-03-18T06:31:37.598806Z",
          "shell.execute_reply.started": "2022-03-18T06:30:42.443711Z",
          "shell.execute_reply": "2022-03-18T06:31:37.598030Z"
        },
        "trusted": true,
        "id": "OsaS-7CQ38xH",
        "outputId": "775db65e-b9a4-4f18-ff35-63981681a6ad"
      },
      "execution_count": null,
      "outputs": [
        {
          "name": "stderr",
          "text": "                                                                                \r",
          "output_type": "stream"
        },
        {
          "execution_count": 5,
          "output_type": "execute_result",
          "data": {
            "text/plain": "('2018-09-20', '2020-09-22')"
          },
          "metadata": {}
        }
      ]
    },
    {
      "cell_type": "markdown",
      "source": [
        "<h1 style=\"background-color:#f7e9ec;font-family:newtimeroman;color:#d90b1c;\">5-Select data for recommendation</h1>"
      ],
      "metadata": {
        "id": "UmaeGrhj38xH"
      }
    },
    {
      "cell_type": "markdown",
      "source": [
        "In this transaction dataset we have 31,788,324 rows and 5 columns.Let's capture first what are the most recently bought articles.For recommendation I am selecting only date 2020-09-22 which is the last transaction date.</h1>"
      ],
      "metadata": {
        "id": "LsvWsJMW38xI"
      }
    },
    {
      "cell_type": "code",
      "source": [
        "\n",
        "hm =  transaction.withColumn('t_dat', transaction['t_dat'].cast('string'))\n",
        "hm = hm.withColumn('date', from_unixtime(unix_timestamp('t_dat', 'yyyy-MM-dd')))\n",
        "hm = hm.withColumn('year', year(col('date')))\n",
        "hm = hm.withColumn('month', month(col('date')))\n",
        "hm = hm.withColumn('day', date_format(col('date'), \"d\"))\n",
        "\n",
        "hm = hm[hm['year'] == 2020]\n",
        "hm = hm[hm['month'] == 9]\n",
        "hm = hm[hm['day'] == 22]\n",
        "transaction.unpersist()\n",
        "\n",
        "# Prepare the dataset\n",
        "hm = hm.groupby('customer_id', 'article_id').count()\n",
        "hm.show(5)"
      ],
      "metadata": {
        "execution": {
          "iopub.status.busy": "2022-03-18T06:31:55.697388Z",
          "iopub.execute_input": "2022-03-18T06:31:55.697665Z",
          "iopub.status.idle": "2022-03-18T06:33:56.044169Z",
          "shell.execute_reply.started": "2022-03-18T06:31:55.697636Z",
          "shell.execute_reply": "2022-03-18T06:33:56.043542Z"
        },
        "trusted": true,
        "id": "IBRG7llB38xI",
        "outputId": "8034fad9-408f-498d-c231-0ffdea071534"
      },
      "execution_count": null,
      "outputs": [
        {
          "name": "stderr",
          "text": "[Stage 7:======================================================>(697 + 1) / 698]\r",
          "output_type": "stream"
        },
        {
          "name": "stdout",
          "text": "+--------------------+----------+-----+\n|         customer_id|article_id|count|\n+--------------------+----------+-----+\n|00f7bc5c0df4c615b...|0780418013|    1|\n|02094817e46f3b692...|0791587001|    1|\n|0333e5dda0257e9f4...|0839332002|    2|\n|07c7a1172caf8fb97...|0573085043|    1|\n|081373184e601470c...|0714790020|    1|\n+--------------------+----------+-----+\nonly showing top 5 rows\n\n",
          "output_type": "stream"
        },
        {
          "name": "stderr",
          "text": "                                                                                \r",
          "output_type": "stream"
        }
      ]
    },
    {
      "cell_type": "code",
      "source": [
        "print((hm.count(), len(hm.columns)))"
      ],
      "metadata": {
        "execution": {
          "iopub.status.busy": "2022-03-18T06:34:05.465844Z",
          "iopub.execute_input": "2022-03-18T06:34:05.466102Z",
          "iopub.status.idle": "2022-03-18T06:36:02.218939Z",
          "shell.execute_reply.started": "2022-03-18T06:34:05.466074Z",
          "shell.execute_reply": "2022-03-18T06:36:02.218287Z"
        },
        "trusted": true,
        "id": "NZtuziEF38xJ",
        "outputId": "77c63ee3-c72b-40e1-921b-8c67ee1b1c29"
      },
      "execution_count": null,
      "outputs": [
        {
          "name": "stderr",
          "text": "[Stage 10:=====================================================>(697 + 1) / 698]\r",
          "output_type": "stream"
        },
        {
          "name": "stdout",
          "text": "(29486, 3)\n",
          "output_type": "stream"
        },
        {
          "name": "stderr",
          "text": "                                                                                \r",
          "output_type": "stream"
        }
      ]
    },
    {
      "cell_type": "code",
      "source": [
        "# Count the total number of article count in the dataset\n",
        "numerator = hm.select(\"count\").count()\n",
        "\n",
        "# Count the number of distinct customerid and distinct articleid\n",
        "num_users = hm.select(\"customer_id\").distinct().count()\n",
        "num_articles = hm.select(\"article_id\").distinct().count()\n",
        "\n",
        "# Set the denominator equal to the number of customer multiplied by the number of articles\n",
        "denominator = num_users * num_articles\n",
        "\n",
        "# Divide the numerator by the denominator\n",
        "sparsity = (1.0 - (numerator *1.0)/denominator)*100\n",
        "print(\"Sparsity: \", \"%.2f\" % sparsity + \"%.\")"
      ],
      "metadata": {
        "execution": {
          "iopub.status.busy": "2022-03-18T06:36:08.329905Z",
          "iopub.execute_input": "2022-03-18T06:36:08.330630Z",
          "iopub.status.idle": "2022-03-18T06:41:50.762535Z",
          "shell.execute_reply.started": "2022-03-18T06:36:08.330592Z",
          "shell.execute_reply": "2022-03-18T06:41:50.761556Z"
        },
        "trusted": true,
        "id": "qIxH7wsL38xJ",
        "outputId": "68748447-6134-4c94-ec5e-c510f7d78e80"
      },
      "execution_count": null,
      "outputs": [
        {
          "name": "stderr",
          "text": "[Stage 28:=====================================================>(696 + 2) / 698]\r",
          "output_type": "stream"
        },
        {
          "name": "stdout",
          "text": "Sparsity:  99.96%.\n",
          "output_type": "stream"
        },
        {
          "name": "stderr",
          "text": "                                                                                \r",
          "output_type": "stream"
        }
      ]
    },
    {
      "cell_type": "code",
      "source": [
        "userId_count = hm.groupBy(\"customer_id\").count().orderBy('count', ascending=False)\n",
        "userId_count.show()"
      ],
      "metadata": {
        "execution": {
          "iopub.status.busy": "2022-03-18T06:41:54.276206Z",
          "iopub.execute_input": "2022-03-18T06:41:54.276469Z",
          "iopub.status.idle": "2022-03-18T06:43:50.667022Z",
          "shell.execute_reply.started": "2022-03-18T06:41:54.276440Z",
          "shell.execute_reply": "2022-03-18T06:43:50.666109Z"
        },
        "trusted": true,
        "id": "h1_XmWUv38xK",
        "outputId": "2eff3d12-44b4-4003-cc1e-d3ad3d1d4d33"
      },
      "execution_count": null,
      "outputs": [
        {
          "name": "stderr",
          "text": "[Stage 34:=====================================================>(697 + 1) / 698]\r",
          "output_type": "stream"
        },
        {
          "name": "stdout",
          "text": "+--------------------+-----+\n|         customer_id|count|\n+--------------------+-----+\n|30b6056bacc5f5c9d...|   28|\n|5e8fb4d457fdffc61...|   28|\n|dc1b173e541f8d3c1...|   27|\n|6335d496ef463bc40...|   25|\n|1796e87fd2e88932b...|   25|\n|f50287d9cf052d4b4...|   24|\n|54e8ebd39543b5a4d...|   23|\n|fd5ce8716faf00f6a...|   23|\n|850ec77661a417d27...|   22|\n|ad3663a848dccbdda...|   21|\n|32f3a6a7ce63d302c...|   21|\n|b606fe5786c00151a...|   21|\n|298523b6637340717...|   21|\n|b49647f84a99ced53...|   21|\n|fc783381f1ea2174c...|   21|\n|a08e284bb18add2d7...|   21|\n|383e1b07e2c1fe169...|   21|\n|3ca77aab50ae4532b...|   20|\n|2a721767cd9864ed5...|   20|\n|af5166e0f89b0d433...|   19|\n+--------------------+-----+\nonly showing top 20 rows\n\n",
          "output_type": "stream"
        },
        {
          "name": "stderr",
          "text": "                                                                                \r",
          "output_type": "stream"
        }
      ]
    },
    {
      "cell_type": "code",
      "source": [
        "articleId_count = hm.groupBy(\"article_id\").count().orderBy('count', ascending=False)\n",
        "articleId_count.show()"
      ],
      "metadata": {
        "execution": {
          "iopub.status.busy": "2022-03-18T06:44:30.992308Z",
          "iopub.execute_input": "2022-03-18T06:44:30.992599Z",
          "iopub.status.idle": "2022-03-18T06:46:29.989860Z",
          "shell.execute_reply.started": "2022-03-18T06:44:30.992569Z",
          "shell.execute_reply": "2022-03-18T06:46:29.989164Z"
        },
        "trusted": true,
        "id": "LOAAQKmB38xK",
        "outputId": "d2897b06-7fc9-421b-a58a-7e6ab0f4d4a2"
      },
      "execution_count": null,
      "outputs": [
        {
          "name": "stderr",
          "text": "[Stage 40:=====================================================>(696 + 2) / 698]\r",
          "output_type": "stream"
        },
        {
          "name": "stdout",
          "text": "+----------+-----+\n|article_id|count|\n+----------+-----+\n|0924243002|   91|\n|0918522001|   88|\n|0866731001|   78|\n|0751471001|   75|\n|0448509014|   73|\n|0714790020|   72|\n|0762846027|   68|\n|0928206001|   67|\n|0893432002|   66|\n|0918292001|   65|\n|0915529005|   64|\n|0788575004|   63|\n|0915529003|   63|\n|0863583001|   60|\n|0930380001|   59|\n|0573085028|   59|\n|0919273002|   58|\n|0850917001|   57|\n|0573085042|   56|\n|0874110016|   53|\n+----------+-----+\nonly showing top 20 rows\n\n",
          "output_type": "stream"
        },
        {
          "name": "stderr",
          "text": "                                                                                \r",
          "output_type": "stream"
        }
      ]
    },
    {
      "cell_type": "markdown",
      "source": [
        "<h1 style=\"background-color:#f7e9ec;font-family:newtimeroman;color:#d90b1c;\">5-Importing important modules</h1>"
      ],
      "metadata": {
        "id": "pkFtRU_p38xK"
      }
    },
    {
      "cell_type": "code",
      "source": [
        "from pyspark.ml.evaluation import RegressionEvaluator\n",
        "from pyspark.ml.recommendation import ALS"
      ],
      "metadata": {
        "execution": {
          "iopub.status.busy": "2022-03-18T06:46:47.961910Z",
          "iopub.execute_input": "2022-03-18T06:46:47.962606Z",
          "iopub.status.idle": "2022-03-18T06:46:47.966862Z",
          "shell.execute_reply.started": "2022-03-18T06:46:47.962569Z",
          "shell.execute_reply": "2022-03-18T06:46:47.965933Z"
        },
        "trusted": true,
        "id": "M5AZ5TJz38xL"
      },
      "execution_count": null,
      "outputs": []
    },
    {
      "cell_type": "markdown",
      "source": [
        "\n",
        "<h1 style=\"background-color:#f7e9ec;font-family:newtimeroman;color:#d90b1c;\">6-Converting String to index</h1>\n",
        "\n",
        "Before making an ALS model it needs to be clear that ALS only accepts integer value as parameters. Hence we need to convert customer_id and article_id column in index form."
      ],
      "metadata": {
        "id": "gEz7wba038xL"
      }
    },
    {
      "cell_type": "code",
      "source": [
        "from pyspark.ml.feature import StringIndexer\n",
        "from pyspark.ml import Pipeline\n",
        "from pyspark.sql.functions import col\n",
        "indexer = [StringIndexer(inputCol=column, outputCol=column+\"_index\") for column in list(set(hm.columns)-set(['count'])) ]\n",
        "pipeline = Pipeline(stages=indexer)\n",
        "transformed = pipeline.fit(hm).transform(hm)\n",
        "transformed.show()"
      ],
      "metadata": {
        "execution": {
          "iopub.status.busy": "2022-03-18T06:46:55.771360Z",
          "iopub.execute_input": "2022-03-18T06:46:55.771702Z",
          "iopub.status.idle": "2022-03-18T06:52:52.597228Z",
          "shell.execute_reply.started": "2022-03-18T06:46:55.771664Z",
          "shell.execute_reply": "2022-03-18T06:52:52.596483Z"
        },
        "trusted": true,
        "id": "KnXEEdgK38xL",
        "outputId": "f052cca7-d70b-47ec-d261-d5f66cb33581"
      },
      "execution_count": null,
      "outputs": [
        {
          "name": "stderr",
          "text": "22/03/18 06:52:52 WARN DAGScheduler: Broadcasting large task binary with size 1207.9 KiB\n",
          "output_type": "stream"
        },
        {
          "name": "stdout",
          "text": "+--------------------+----------+-----+----------------+-----------------+\n|         customer_id|article_id|count|article_id_index|customer_id_index|\n+--------------------+----------+-----+----------------+-----------------+\n|00f7bc5c0df4c615b...|0780418013|    1|          2237.0|            783.0|\n|02094817e46f3b692...|0791587001|    1|            35.0|            785.0|\n|0333e5dda0257e9f4...|0839332002|    2|           732.0|           4098.0|\n|07c7a1172caf8fb97...|0573085043|    1|            44.0|           1702.0|\n|081373184e601470c...|0714790020|    1|             5.0|           4146.0|\n|09bec2a61046ccbea...|0860336002|    1|          2368.0|           6792.0|\n|0be4f1ecce204ee32...|0573085028|    1|            14.0|            799.0|\n|0c4b30343292b5101...|0918522001|    1|             1.0|           6825.0|\n|0e10e02358875468b...|0579541001|    1|            53.0|           2689.0|\n|0fc371e67e61a31d7...|0907170001|    1|          1978.0|           1737.0|\n|10817b19177f6a53e...|0718278019|    1|           419.0|            805.0|\n|10ac90988da6052dd...|0934212003|    1|          2058.0|            806.0|\n|14a298482fa7f9d52...|0894353002|    1|          3772.0|             87.0|\n|14f4b1b17991c32d2...|0803685001|    1|           725.0|           1184.0|\n|1601fa3c3f39aa623...|0730683001|    1|          2994.0|           4284.0|\n|164e1a251f0e3d764...|0831267001|    1|          5979.0|           4287.0|\n|165d2c0b0128d5619...|0909081004|    1|          1293.0|             88.0|\n|166546028742fe655...|0767423013|    1|           974.0|            814.0|\n|189b7275c513a84c8...|0877711001|    1|          6890.0|            204.0|\n|1918933afff08e955...|0914672001|    1|          7685.0|            285.0|\n+--------------------+----------+-----+----------------+-----------------+\nonly showing top 20 rows\n\n",
          "output_type": "stream"
        },
        {
          "name": "stderr",
          "text": "                                                                                \r",
          "output_type": "stream"
        }
      ]
    },
    {
      "cell_type": "markdown",
      "source": [
        "\n",
        "<h1 style=\"background-color:#f7e9ec;font-family:newtimeroman;color:#d90b1c;\">7-Creating training and test data</h1>"
      ],
      "metadata": {
        "id": "ExtCxM1538xM"
      }
    },
    {
      "cell_type": "code",
      "source": [
        "(training,test)=transformed.randomSplit([0.8, 0.2])"
      ],
      "metadata": {
        "execution": {
          "iopub.status.busy": "2022-03-18T06:52:59.724383Z",
          "iopub.execute_input": "2022-03-18T06:52:59.724964Z",
          "iopub.status.idle": "2022-03-18T06:52:59.751119Z",
          "shell.execute_reply.started": "2022-03-18T06:52:59.724923Z",
          "shell.execute_reply": "2022-03-18T06:52:59.750368Z"
        },
        "trusted": true,
        "id": "uImnoqBe38xM"
      },
      "execution_count": null,
      "outputs": []
    },
    {
      "cell_type": "markdown",
      "source": [
        "\n",
        "<h1 style=\"background-color:#f7e9ec;font-family:newtimeroman;color:#d90b1c;\">8-Creating ALS model and fitting data</h1>\n",
        "\n",
        "To build the model explicitly specify the columns. Set nonnegative as ‘True’, since we are looking count greater than 0. The model also gives an option to select implicit ratings. Since we are working with explicit, set it to ‘False’ or by default it takes explicit.\n",
        "\n",
        "When using simple random splits as in Spark’s CrossValidator or TrainValidationSplit, it is actually very common to encounter users and/or items in the evaluation set that are not in the training set. By default, Spark assigns NaN predictions during ALSModel.transform when a user and/or item factor is not present in the model.We set cold start strategy to ‘drop’ to ensure we don’t get NaN evaluation metrics."
      ],
      "metadata": {
        "id": "GXAcqetF38xM"
      }
    },
    {
      "cell_type": "code",
      "source": [
        "als=ALS(maxIter=5,regParam=0.09,rank=25,userCol=\"customer_id_index\",itemCol=\"article_id_index\",ratingCol=\"count\",coldStartStrategy=\"drop\",nonnegative=True)\n",
        "model=als.fit(training)"
      ],
      "metadata": {
        "_kg_hide-output": true,
        "execution": {
          "iopub.status.busy": "2022-03-18T06:53:06.316044Z",
          "iopub.execute_input": "2022-03-18T06:53:06.316304Z",
          "iopub.status.idle": "2022-03-18T06:57:28.744507Z",
          "shell.execute_reply.started": "2022-03-18T06:53:06.316272Z",
          "shell.execute_reply": "2022-03-18T06:57:28.743716Z"
        },
        "trusted": true,
        "id": "5FlcpxEG38xN",
        "outputId": "efc6f05d-b6fa-4ff4-eb87-c8547d8c3915"
      },
      "execution_count": null,
      "outputs": [
        {
          "name": "stderr",
          "text": "22/03/18 06:57:05 WARN DAGScheduler: Broadcasting large task binary with size 1223.0 KiB\n22/03/18 06:57:06 WARN DAGScheduler: Broadcasting large task binary with size 1224.4 KiB\n22/03/18 06:57:07 WARN DAGScheduler: Broadcasting large task binary with size 1226.0 KiB\n22/03/18 06:57:07 WARN DAGScheduler: Broadcasting large task binary with size 1227.3 KiB\n22/03/18 06:57:07 WARN DAGScheduler: Broadcasting large task binary with size 1226.2 KiB\n22/03/18 06:57:08 WARN DAGScheduler: Broadcasting large task binary with size 1227.5 KiB\n22/03/18 06:57:09 WARN DAGScheduler: Broadcasting large task binary with size 1228.3 KiB\n22/03/18 06:57:09 WARN DAGScheduler: Broadcasting large task binary with size 1231.4 KiB\n22/03/18 06:57:12 WARN DAGScheduler: Broadcasting large task binary with size 1232.8 KiB\n22/03/18 06:57:14 WARN DAGScheduler: Broadcasting large task binary with size 1234.2 KiB\n22/03/18 06:57:16 WARN DAGScheduler: Broadcasting large task binary with size 1235.5 KiB\n22/03/18 06:57:17 WARN DAGScheduler: Broadcasting large task binary with size 1236.9 KiB\n22/03/18 06:57:19 WARN DAGScheduler: Broadcasting large task binary with size 1238.3 KiB\n22/03/18 06:57:20 WARN DAGScheduler: Broadcasting large task binary with size 1239.7 KiB\n22/03/18 06:57:22 WARN DAGScheduler: Broadcasting large task binary with size 1241.1 KiB\n22/03/18 06:57:23 WARN DAGScheduler: Broadcasting large task binary with size 1242.5 KiB\n22/03/18 06:57:25 WARN DAGScheduler: Broadcasting large task binary with size 1244.4 KiB\n22/03/18 06:57:26 WARN DAGScheduler: Broadcasting large task binary with size 1243.0 KiB\n                                                                                \r",
          "output_type": "stream"
        }
      ]
    },
    {
      "cell_type": "markdown",
      "source": [
        "\n",
        "<h1 style=\"background-color:#f7e9ec;font-family:newtimeroman;color:#d90b1c;\">9-Evaluate rmse</h1>"
      ],
      "metadata": {
        "id": "HdebbeQc38xN"
      }
    },
    {
      "cell_type": "code",
      "source": [
        "evaluator=RegressionEvaluator(metricName=\"rmse\",labelCol=\"count\",predictionCol=\"prediction\")\n",
        "predictions=model.transform(test)\n",
        "rmse=evaluator.evaluate(predictions)\n"
      ],
      "metadata": {
        "_kg_hide-output": true,
        "execution": {
          "iopub.status.busy": "2022-03-18T06:57:34.851723Z",
          "iopub.execute_input": "2022-03-18T06:57:34.852731Z",
          "iopub.status.idle": "2022-03-18T06:59:32.945425Z",
          "shell.execute_reply.started": "2022-03-18T06:57:34.852678Z",
          "shell.execute_reply": "2022-03-18T06:59:32.944626Z"
        },
        "trusted": true,
        "id": "xTxJHGmA38xN",
        "outputId": "f98d2ea1-4132-40af-97fb-9351d3ba819a"
      },
      "execution_count": null,
      "outputs": [
        {
          "name": "stderr",
          "text": "22/03/18 06:57:35 WARN DAGScheduler: Broadcasting large task binary with size 1252.0 KiB\n22/03/18 06:57:35 WARN DAGScheduler: Broadcasting large task binary with size 1250.6 KiB\n22/03/18 06:59:30 WARN DAGScheduler: Broadcasting large task binary with size 1217.7 KiB\n22/03/18 06:59:32 WARN DAGScheduler: Broadcasting large task binary with size 1296.6 KiB\n",
          "output_type": "stream"
        }
      ]
    },
    {
      "cell_type": "code",
      "source": [
        "print(\"RMSE=\"+str(rmse))"
      ],
      "metadata": {
        "execution": {
          "iopub.status.busy": "2022-03-18T07:00:43.791385Z",
          "iopub.execute_input": "2022-03-18T07:00:43.792162Z",
          "iopub.status.idle": "2022-03-18T07:00:43.797656Z",
          "shell.execute_reply.started": "2022-03-18T07:00:43.792113Z",
          "shell.execute_reply": "2022-03-18T07:00:43.796703Z"
        },
        "trusted": true,
        "id": "ckRDEaBz38xN",
        "outputId": "20b2e07a-dbcc-4453-bc38-f8e8bd41ad32"
      },
      "execution_count": null,
      "outputs": [
        {
          "name": "stdout",
          "text": "RMSE=0.4860669125503995\n",
          "output_type": "stream"
        }
      ]
    },
    {
      "cell_type": "markdown",
      "source": [
        "\n",
        "<h1 style=\"background-color:#f7e9ec;font-family:newtimeroman;color:#d90b1c;\">10-Generate predictions</h1>"
      ],
      "metadata": {
        "id": "PS5tMEgO38xN"
      }
    },
    {
      "cell_type": "code",
      "source": [
        "predictions.show()"
      ],
      "metadata": {
        "execution": {
          "iopub.status.busy": "2022-03-18T07:00:49.934723Z",
          "iopub.execute_input": "2022-03-18T07:00:49.934976Z",
          "iopub.status.idle": "2022-03-18T07:02:48.591058Z",
          "shell.execute_reply.started": "2022-03-18T07:00:49.934946Z",
          "shell.execute_reply": "2022-03-18T07:02:48.590116Z"
        },
        "trusted": true,
        "id": "fJZx4C1J38xO",
        "outputId": "ea0edac9-b076-4870-af73-95cb2e39697b"
      },
      "execution_count": null,
      "outputs": [
        {
          "name": "stderr",
          "text": "22/03/18 07:00:50 WARN DAGScheduler: Broadcasting large task binary with size 1252.0 KiB\n22/03/18 07:00:50 WARN DAGScheduler: Broadcasting large task binary with size 1250.6 KiB\n22/03/18 07:02:47 WARN DAGScheduler: Broadcasting large task binary with size 1218.8 KiB\n                                                                                \r",
          "output_type": "stream"
        },
        {
          "name": "stdout",
          "text": "+--------------------+----------+-----+----------------+-----------------+----------+\n|         customer_id|article_id|count|article_id_index|customer_id_index|prediction|\n+--------------------+----------+-----+----------------+-----------------+----------+\n|1f4d4f43ace92c96f...|0902419001|    1|           280.0|            148.0| 0.9794985|\n|1f4d4f43ace92c96f...|0922037001|    1|          1624.0|            148.0|0.89283216|\n|279874c4d0ed6623c...|0894956008|    1|           890.0|           1829.0| 0.8487479|\n|970bdc24215ac9cb6...|0372860002|    1|            61.0|            471.0| 0.8780332|\n|970bdc24215ac9cb6...|0918292001|    1|             9.0|            471.0| 0.8860156|\n|b4db5e5259234574e...|0837939001|    1|          3384.0|           2366.0| 0.6379638|\n|cf5666882664f2fd3...|0824995001|    1|          1826.0|           3794.0| 0.6718024|\n|d97e200fbf2e50ba7...|0893141002|    1|           219.0|           1088.0|0.97295254|\n|d97e200fbf2e50ba7...|0909588006|    1|           514.0|           1088.0|  1.047996|\n|e593ef8fa2de406b1...|0859125001|    1|           433.0|           6397.0|  0.596128|\n|06501c51fef18c497...|0848460002|    1|          3417.0|            392.0| 0.7448844|\n|51c159b3645d9675b...|0568597007|    1|           943.0|           1990.0| 0.8111704|\n|52859651d8a9ca94c...|0673677002|    1|            21.0|            623.0| 0.7628859|\n|52859651d8a9ca94c...|0685813018|    1|          1377.0|            623.0|0.76010084|\n|567199a5e09dff3e8...|0685814062|    1|           364.0|            897.0| 1.1990669|\n|63f8173b620eff63f...|0863287003|    2|          2375.0|           3226.0|0.81853545|\n|85f02d2bbf7e5297c...|0799365027|    1|           426.0|           1395.0| 1.0712688|\n|85f02d2bbf7e5297c...|0905365002|    1|          1058.0|           1395.0| 0.8168725|\n|9526c01829ecf07e6...|0754238022|    1|          3046.0|           2235.0| 0.7450205|\n|bc2ea7b7ab2dadc64...|0821398001|    1|          1179.0|           3698.0|  1.363107|\n+--------------------+----------+-----+----------------+-----------------+----------+\nonly showing top 20 rows\n\n",
          "output_type": "stream"
        }
      ]
    },
    {
      "cell_type": "markdown",
      "source": [
        "<h1 style=\"background-color:#f7e9ec;font-family:newtimeroman;color:#d90b1c;\">11-Providing Recommendations by Article id</h1>"
      ],
      "metadata": {
        "id": "NuQZ91ye38xO"
      }
    },
    {
      "cell_type": "code",
      "source": [
        "user_recs=model.recommendForAllItems(10).show(10)"
      ],
      "metadata": {
        "execution": {
          "iopub.status.busy": "2022-03-18T07:03:14.142411Z",
          "iopub.execute_input": "2022-03-18T07:03:14.143122Z",
          "iopub.status.idle": "2022-03-18T07:03:30.039177Z",
          "shell.execute_reply.started": "2022-03-18T07:03:14.143085Z",
          "shell.execute_reply": "2022-03-18T07:03:30.038486Z"
        },
        "trusted": true,
        "id": "tPMuUXv238xO",
        "outputId": "b488e60e-5914-4f93-bcc1-65a372e3d1af"
      },
      "execution_count": null,
      "outputs": [
        {
          "name": "stderr",
          "text": "/opt/conda/lib/python3.7/site-packages/pyspark/sql/context.py:127: FutureWarning: Deprecated in 3.0.0. Use SparkSession.builder.getOrCreate() instead.\n  FutureWarning\n22/03/18 07:03:14 WARN DAGScheduler: Broadcasting large task binary with size 1296.8 KiB\n22/03/18 07:03:29 WARN DAGScheduler: Broadcasting large task binary with size 1274.2 KiB\n",
          "output_type": "stream"
        },
        {
          "name": "stdout",
          "text": "+----------------+--------------------+\n|article_id_index|     recommendations|\n+----------------+--------------------+\n|               1|[{4907, 4.789394}...|\n|               3|[{4907, 5.4234543...|\n|               5|[{4907, 5.4816947...|\n|               6|[{4907, 4.479425}...|\n|               9|[{9001, 4.6863546...|\n|              12|[{4907, 5.217934}...|\n|              13|[{4907, 4.7051945...|\n|              15|[{9001, 4.935132}...|\n|              16|[{4907, 4.791131}...|\n|              17|[{4907, 4.4958687...|\n+----------------+--------------------+\nonly showing top 10 rows\n\n",
          "output_type": "stream"
        },
        {
          "name": "stderr",
          "text": "                                                                                \r",
          "output_type": "stream"
        }
      ]
    },
    {
      "cell_type": "markdown",
      "source": [
        "\n",
        "<h1 style=\"background-color:#f7e9ec;font-family:newtimeroman;color:#d90b1c;\">12-Providing Recommendations by Customer id</h1>"
      ],
      "metadata": {
        "id": "cu2wC_bT38xO"
      }
    },
    {
      "cell_type": "code",
      "source": [
        "item_recs=model.recommendForAllUsers(10).show(10)"
      ],
      "metadata": {
        "execution": {
          "iopub.status.busy": "2022-03-18T07:03:36.230349Z",
          "iopub.execute_input": "2022-03-18T07:03:36.231063Z",
          "iopub.status.idle": "2022-03-18T07:03:48.389264Z",
          "shell.execute_reply.started": "2022-03-18T07:03:36.231027Z",
          "shell.execute_reply": "2022-03-18T07:03:48.388581Z"
        },
        "trusted": true,
        "id": "ZUZ_HrsU38xO",
        "outputId": "49615007-9cae-4ea6-92ba-7be78691abc4"
      },
      "execution_count": null,
      "outputs": [
        {
          "name": "stderr",
          "text": "22/03/18 07:03:36 WARN DAGScheduler: Broadcasting large task binary with size 1296.8 KiB\n22/03/18 07:03:48 WARN DAGScheduler: Broadcasting large task binary with size 1274.2 KiB\n",
          "output_type": "stream"
        },
        {
          "name": "stdout",
          "text": "+-----------------+--------------------+\n|customer_id_index|     recommendations|\n+-----------------+--------------------+\n|                1|[{5040, 2.8026729...|\n|                3|[{5040, 2.9924715...|\n|                5|[{4146, 3.3452044...|\n|                6|[{5040, 8.028572}...|\n|                9|[{4146, 2.771582}...|\n|               12|[{4146, 2.556902}...|\n|               13|[{4146, 3.2950058...|\n|               15|[{1891, 2.3136094...|\n|               16|[{4146, 3.2609243...|\n|               17|[{4146, 2.696253}...|\n+-----------------+--------------------+\nonly showing top 10 rows\n\n",
          "output_type": "stream"
        },
        {
          "name": "stderr",
          "text": "                                                                                \r",
          "output_type": "stream"
        }
      ]
    },
    {
      "cell_type": "code",
      "source": [
        "%%time\n",
        "userRecsDf = model.recommendForAllUsers(10).cache()\n",
        "userRecsDf.count()"
      ],
      "metadata": {
        "execution": {
          "iopub.status.busy": "2022-03-18T07:03:54.325155Z",
          "iopub.execute_input": "2022-03-18T07:03:54.325932Z",
          "iopub.status.idle": "2022-03-18T07:04:14.226869Z",
          "shell.execute_reply.started": "2022-03-18T07:03:54.325874Z",
          "shell.execute_reply": "2022-03-18T07:04:14.221592Z"
        },
        "trusted": true,
        "id": "QEShugGj38xP",
        "outputId": "72e56895-7b6b-4216-c584-a63e9e6ed0d3"
      },
      "execution_count": null,
      "outputs": [
        {
          "name": "stderr",
          "text": "22/03/18 07:03:54 WARN DAGScheduler: Broadcasting large task binary with size 1296.8 KiB\n22/03/18 07:04:06 WARN DAGScheduler: Broadcasting large task binary with size 1281.3 KiB\n[Stage 233:==================================================>  (192 + 2) / 200]\r",
          "output_type": "stream"
        },
        {
          "name": "stdout",
          "text": "CPU times: user 66.4 ms, sys: 16.9 ms, total: 83.3 ms\nWall time: 19.9 s\n",
          "output_type": "stream"
        },
        {
          "name": "stderr",
          "text": "                                                                                \r",
          "output_type": "stream"
        },
        {
          "execution_count": 20,
          "output_type": "execute_result",
          "data": {
            "text/plain": "9633"
          },
          "metadata": {}
        }
      ]
    },
    {
      "cell_type": "code",
      "source": [
        "userRecsDf.printSchema()"
      ],
      "metadata": {
        "execution": {
          "iopub.status.busy": "2022-03-18T07:04:18.097462Z",
          "iopub.execute_input": "2022-03-18T07:04:18.098169Z",
          "iopub.status.idle": "2022-03-18T07:04:18.105094Z",
          "shell.execute_reply.started": "2022-03-18T07:04:18.098132Z",
          "shell.execute_reply": "2022-03-18T07:04:18.104182Z"
        },
        "trusted": true,
        "id": "K2IvxudV38xP",
        "outputId": "d51338c7-1bdc-4495-9e2b-737f299f283a"
      },
      "execution_count": null,
      "outputs": [
        {
          "name": "stdout",
          "text": "root\n |-- customer_id_index: integer (nullable = false)\n |-- recommendations: array (nullable = true)\n |    |-- element: struct (containsNull = true)\n |    |    |-- article_id_index: integer (nullable = true)\n |    |    |-- rating: float (nullable = true)\n\n",
          "output_type": "stream"
        }
      ]
    },
    {
      "cell_type": "code",
      "source": [
        "userRecsDf.select(\"customer_id_index\",\"recommendations.article_id_index\").show(10,False)"
      ],
      "metadata": {
        "execution": {
          "iopub.status.busy": "2022-03-18T07:04:24.660439Z",
          "iopub.execute_input": "2022-03-18T07:04:24.661027Z",
          "iopub.status.idle": "2022-03-18T07:04:24.842559Z",
          "shell.execute_reply.started": "2022-03-18T07:04:24.660986Z",
          "shell.execute_reply": "2022-03-18T07:04:24.841877Z"
        },
        "trusted": true,
        "id": "PQvfrEBX38xP",
        "outputId": "3b189974-c317-4a71-c227-89c79dad2bc6"
      },
      "execution_count": null,
      "outputs": [
        {
          "name": "stdout",
          "text": "+-----------------+------------------------------------------------------------+\n|customer_id_index|article_id_index                                            |\n+-----------------+------------------------------------------------------------+\n|1580             |[4146, 4405, 6383, 5040, 368, 1891, 4249, 2511, 5111, 6874] |\n|4900             |[4146, 6383, 5040, 368, 4249, 4405, 1891, 2511, 3869, 4910] |\n|5300             |[4146, 368, 4249, 1891, 4405, 7828, 6874, 2511, 5040, 6383] |\n|6620             |[4146, 3869, 4910, 1891, 3013, 4405, 5891, 2716, 368, 4249] |\n|7240             |[4146, 1891, 6874, 1765, 6848, 4405, 7828, 6577, 7864, 5891]|\n|7880             |[4146, 1891, 4910, 3869, 4405, 5891, 2511, 6848, 1221, 3859]|\n|9900             |[6874, 4405, 2573, 4170, 5111, 7267, 6848, 5891, 1341, 4212]|\n|471              |[4146, 5040, 6383, 4910, 3869, 368, 1891, 6944, 6874, 4405] |\n|1591             |[5040, 6383, 4146, 368, 4405, 6874, 7828, 3869, 4910, 4249] |\n|4101             |[4146, 5040, 6383, 4862, 2511, 2716, 2989, 368, 4405, 7074] |\n+-----------------+------------------------------------------------------------+\nonly showing top 10 rows\n\n",
          "output_type": "stream"
        },
        {
          "name": "stderr",
          "text": "22/03/18 07:04:24 WARN DAGScheduler: Broadcasting large task binary with size 1282.2 KiB\n",
          "output_type": "stream"
        }
      ]
    },
    {
      "cell_type": "code",
      "source": [
        "import gc #This is to free up the memory\n",
        "gc.collect()"
      ],
      "metadata": {
        "execution": {
          "iopub.status.busy": "2022-03-16T12:58:03.886843Z",
          "iopub.execute_input": "2022-03-16T12:58:03.887108Z",
          "iopub.status.idle": "2022-03-16T12:58:04.194273Z",
          "shell.execute_reply.started": "2022-03-16T12:58:03.887067Z",
          "shell.execute_reply": "2022-03-16T12:58:04.193378Z"
        },
        "trusted": true,
        "id": "DQjOmXUb38xQ"
      },
      "execution_count": null,
      "outputs": []
    },
    {
      "cell_type": "markdown",
      "source": [
        "<h1 style=\"background-color:#f7e9ec;font-family:newtimeroman;color:#d90b1c;\">13-Converting back to string form</h1>\n",
        "\n",
        "As seen in above image the results are in integer form we need to convert it back to its original name.The code is little bit longer given so many conversions."
      ],
      "metadata": {
        "id": "5PXxi2AD38xQ"
      }
    },
    {
      "cell_type": "code",
      "source": [
        "from pyspark.ml.evaluation import RegressionEvaluator\n",
        "from pyspark.ml.recommendation import ALS\n",
        "from pyspark.sql import Row\n",
        "import pandas as pd\n",
        "recs=model.recommendForAllUsers(10).toPandas()\n",
        "nrecs=recs.recommendations.apply(pd.Series) \\\n",
        "            .merge(recs, right_index = True, left_index = True) \\\n",
        "            .drop([\"recommendations\"], axis = 1) \\\n",
        "            .melt(id_vars = ['customer_id_index'], value_name = \"recommendations\") \\\n",
        "            .drop(\"variable\", axis = 1) \\\n",
        "            .dropna() \n",
        "nrecs=nrecs.sort_values('customer_id_index')\n",
        "nrecs=pd.concat([nrecs['recommendations'].apply(pd.Series), nrecs['customer_id_index']], axis = 1)"
      ],
      "metadata": {
        "execution": {
          "iopub.status.busy": "2022-03-18T07:04:35.190590Z",
          "iopub.execute_input": "2022-03-18T07:04:35.190866Z",
          "iopub.status.idle": "2022-03-18T07:05:11.822238Z",
          "shell.execute_reply.started": "2022-03-18T07:04:35.190835Z",
          "shell.execute_reply": "2022-03-18T07:05:11.821543Z"
        },
        "_kg_hide-output": true,
        "trusted": true,
        "id": "JG71FlC838xQ",
        "outputId": "a20a91c2-e485-4308-fc42-0de0db8c8420"
      },
      "execution_count": null,
      "outputs": [
        {
          "name": "stderr",
          "text": "22/03/18 07:04:35 WARN DAGScheduler: Broadcasting large task binary with size 1296.8 KiB\n22/03/18 07:04:47 WARN DAGScheduler: Broadcasting large task binary with size 1274.3 KiB\n                                                                                \r",
          "output_type": "stream"
        }
      ]
    },
    {
      "cell_type": "code",
      "source": [
        "nrecs.columns = ['ArticleID_index','count','UserID_index']\n",
        "md=transformed.select(transformed['article_id'],transformed['article_id_index'],transformed['customer_id'],transformed['customer_id_index'])\n",
        "md=md.toPandas()"
      ],
      "metadata": {
        "execution": {
          "iopub.status.busy": "2022-03-18T07:06:29.654880Z",
          "iopub.execute_input": "2022-03-18T07:06:29.655734Z",
          "iopub.status.idle": "2022-03-18T07:08:48.657751Z",
          "shell.execute_reply.started": "2022-03-18T07:06:29.655694Z",
          "shell.execute_reply": "2022-03-18T07:08:48.656957Z"
        },
        "_kg_hide-output": true,
        "trusted": true,
        "id": "HCks--Kk38xQ",
        "outputId": "0b0c1217-1de8-47e4-a786-5ae8e6005d4c"
      },
      "execution_count": null,
      "outputs": [
        {
          "name": "stderr",
          "text": "22/03/18 07:08:47 WARN DAGScheduler: Broadcasting large task binary with size 1205.2 KiB\n                                                                                \r",
          "output_type": "stream"
        }
      ]
    },
    {
      "cell_type": "code",
      "source": [
        "dict1 =dict(zip(md['article_id_index'],md['article_id']))\n",
        "dict2=dict(zip(md['customer_id_index'],md['customer_id']))\n",
        "nrecs['article_id']=nrecs['ArticleID_index'].map(dict1)\n",
        "nrecs['customer_id']=nrecs['UserID_index'].map(dict2)"
      ],
      "metadata": {
        "execution": {
          "iopub.status.busy": "2022-03-18T07:08:59.672167Z",
          "iopub.execute_input": "2022-03-18T07:08:59.672420Z",
          "iopub.status.idle": "2022-03-18T07:08:59.715845Z",
          "shell.execute_reply.started": "2022-03-18T07:08:59.672389Z",
          "shell.execute_reply": "2022-03-18T07:08:59.715086Z"
        },
        "trusted": true,
        "id": "xlpqnCU838xR"
      },
      "execution_count": null,
      "outputs": []
    },
    {
      "cell_type": "markdown",
      "source": [
        "<h1 style=\"background-color:#f7e9ec;font-family:newtimeroman;color:#d90b1c;\">14-Final result Recommendations by Customer id</h1>"
      ],
      "metadata": {
        "id": "eyyd71Nt38xR"
      }
    },
    {
      "cell_type": "code",
      "source": [
        "nrecs=nrecs.sort_values('customer_id')\n",
        "nrecs.reset_index(drop=True, inplace=True)\n",
        "new=nrecs[['customer_id','article_id','count']]\n",
        "new['recommendations'] = list(new.article_id)\n",
        "res=new[['customer_id','recommendations']]  \n",
        "res_new=res['recommendations'].groupby([res.customer_id]).apply(list).reset_index()\n",
        "#print(res_new)"
      ],
      "metadata": {
        "execution": {
          "iopub.status.busy": "2022-03-18T07:12:26.497886Z",
          "iopub.execute_input": "2022-03-18T07:12:26.498613Z",
          "iopub.status.idle": "2022-03-18T07:12:26.809742Z",
          "shell.execute_reply.started": "2022-03-18T07:12:26.498576Z",
          "shell.execute_reply": "2022-03-18T07:12:26.808989Z"
        },
        "_kg_hide-input": true,
        "_kg_hide-output": true,
        "trusted": true,
        "id": "65U72UT138xR",
        "outputId": "c7714302-32b4-41ab-df9e-afad87fbfa07"
      },
      "execution_count": null,
      "outputs": [
        {
          "name": "stderr",
          "text": "/opt/conda/lib/python3.7/site-packages/ipykernel_launcher.py:4: SettingWithCopyWarning: \nA value is trying to be set on a copy of a slice from a DataFrame.\nTry using .loc[row_indexer,col_indexer] = value instead\n\nSee the caveats in the documentation: https://pandas.pydata.org/pandas-docs/stable/user_guide/indexing.html#returning-a-view-versus-a-copy\n  after removing the cwd from sys.path.\n",
          "output_type": "stream"
        }
      ]
    },
    {
      "cell_type": "code",
      "source": [
        "res_new[:15]"
      ],
      "metadata": {
        "execution": {
          "iopub.status.busy": "2022-03-18T07:12:32.810378Z",
          "iopub.execute_input": "2022-03-18T07:12:32.810893Z",
          "iopub.status.idle": "2022-03-18T07:12:32.825095Z",
          "shell.execute_reply.started": "2022-03-18T07:12:32.810851Z",
          "shell.execute_reply": "2022-03-18T07:12:32.824436Z"
        },
        "trusted": true,
        "id": "G38sSz5y38xR",
        "outputId": "b8a9690e-f0dd-4f8c-9aac-0efda1e67b9f"
      },
      "execution_count": null,
      "outputs": [
        {
          "execution_count": 35,
          "output_type": "execute_result",
          "data": {
            "text/plain": "                                          customer_id  \\\n0   0003e867a930d0d6842f923d6ba7c9b77aba33fe2a0fbf...   \n1   000525e3fe01600d717da8423643a8303390a055c578ed...   \n2   0010e8eb18f131e724d6997909af0808adbba057529edb...   \n3   001436e2c83cda28548dd668cfc7d621d70d2baf6f6cf0...   \n4   0026ebdd70715d8fa2befa14dfed317a1ffe5451aba839...   \n5   002faf80a68267264102e08eb4f1f21a59236773e4ab90...   \n6   00357b192b81fc83261a45be87f5f3d59112db7d117513...   \n7   003bb11f4a641d26e321b80c099618b2c1cf26fee040dd...   \n8   0049f94e2289eed627a49f2a5a6418bc8ce6ee7e2a902d...   \n9   004d932f7a27ac3167c77db81d9cfd89392729e7f7e0d4...   \n10  0056cda7d40ba00013aec8d1cb2ae90abc5c795ee298ca...   \n11  0059a72dc89bd3a2bd42e523d98567a0f1acd1f7046f9b...   \n12  005d057b0efb307cd8ff450693575f0a3dd01211900138...   \n13  0066eb743279371828aba20039e5a69b60acd872985b00...   \n14  006908fb1f581e64408d2c5a57bf65e06b26939dce50b8...   \n\n                                      recommendations  \n0   [0913340001, 0880815006, 0316441001, 082748700...  \n1   [0717490070, 0316441001, 0857347002, 089448100...  \n2   [0111586001, 0316441001, 0571048002, 087163800...  \n3   [0857347002, 0757971006, 0316441001, 087163800...  \n4   [0571048002, 0894481001, 0871638002, 071749007...  \n5   [0571048002, 0316441001, 0724905016, 071749007...  \n6   [0724905016, 0904961001, 0717490070, 089448100...  \n7   [0877261003, 0717490070, 0871638002, 050286900...  \n8   [0571048002, 0757971006, 0877261003, 071749007...  \n9   [0904961001, 0316441001, 0877261003, 075048101...  \n10  [0877261003, 0757971006, 0857347002, 050286900...  \n11  [0750481010, 0852181003, 0724905016, 072753900...  \n12  [0919499002, 0571048002, 0891846001, 074021300...  \n13  [0316441001, 0926221002, 0871638002, 089448100...  \n14  [0502869002, 0750481010, 0757971006, 057104800...  ",
            "text/html": "<div>\n<style scoped>\n    .dataframe tbody tr th:only-of-type {\n        vertical-align: middle;\n    }\n\n    .dataframe tbody tr th {\n        vertical-align: top;\n    }\n\n    .dataframe thead th {\n        text-align: right;\n    }\n</style>\n<table border=\"1\" class=\"dataframe\">\n  <thead>\n    <tr style=\"text-align: right;\">\n      <th></th>\n      <th>customer_id</th>\n      <th>recommendations</th>\n    </tr>\n  </thead>\n  <tbody>\n    <tr>\n      <th>0</th>\n      <td>0003e867a930d0d6842f923d6ba7c9b77aba33fe2a0fbf...</td>\n      <td>[0913340001, 0880815006, 0316441001, 082748700...</td>\n    </tr>\n    <tr>\n      <th>1</th>\n      <td>000525e3fe01600d717da8423643a8303390a055c578ed...</td>\n      <td>[0717490070, 0316441001, 0857347002, 089448100...</td>\n    </tr>\n    <tr>\n      <th>2</th>\n      <td>0010e8eb18f131e724d6997909af0808adbba057529edb...</td>\n      <td>[0111586001, 0316441001, 0571048002, 087163800...</td>\n    </tr>\n    <tr>\n      <th>3</th>\n      <td>001436e2c83cda28548dd668cfc7d621d70d2baf6f6cf0...</td>\n      <td>[0857347002, 0757971006, 0316441001, 087163800...</td>\n    </tr>\n    <tr>\n      <th>4</th>\n      <td>0026ebdd70715d8fa2befa14dfed317a1ffe5451aba839...</td>\n      <td>[0571048002, 0894481001, 0871638002, 071749007...</td>\n    </tr>\n    <tr>\n      <th>5</th>\n      <td>002faf80a68267264102e08eb4f1f21a59236773e4ab90...</td>\n      <td>[0571048002, 0316441001, 0724905016, 071749007...</td>\n    </tr>\n    <tr>\n      <th>6</th>\n      <td>00357b192b81fc83261a45be87f5f3d59112db7d117513...</td>\n      <td>[0724905016, 0904961001, 0717490070, 089448100...</td>\n    </tr>\n    <tr>\n      <th>7</th>\n      <td>003bb11f4a641d26e321b80c099618b2c1cf26fee040dd...</td>\n      <td>[0877261003, 0717490070, 0871638002, 050286900...</td>\n    </tr>\n    <tr>\n      <th>8</th>\n      <td>0049f94e2289eed627a49f2a5a6418bc8ce6ee7e2a902d...</td>\n      <td>[0571048002, 0757971006, 0877261003, 071749007...</td>\n    </tr>\n    <tr>\n      <th>9</th>\n      <td>004d932f7a27ac3167c77db81d9cfd89392729e7f7e0d4...</td>\n      <td>[0904961001, 0316441001, 0877261003, 075048101...</td>\n    </tr>\n    <tr>\n      <th>10</th>\n      <td>0056cda7d40ba00013aec8d1cb2ae90abc5c795ee298ca...</td>\n      <td>[0877261003, 0757971006, 0857347002, 050286900...</td>\n    </tr>\n    <tr>\n      <th>11</th>\n      <td>0059a72dc89bd3a2bd42e523d98567a0f1acd1f7046f9b...</td>\n      <td>[0750481010, 0852181003, 0724905016, 072753900...</td>\n    </tr>\n    <tr>\n      <th>12</th>\n      <td>005d057b0efb307cd8ff450693575f0a3dd01211900138...</td>\n      <td>[0919499002, 0571048002, 0891846001, 074021300...</td>\n    </tr>\n    <tr>\n      <th>13</th>\n      <td>0066eb743279371828aba20039e5a69b60acd872985b00...</td>\n      <td>[0316441001, 0926221002, 0871638002, 089448100...</td>\n    </tr>\n    <tr>\n      <th>14</th>\n      <td>006908fb1f581e64408d2c5a57bf65e06b26939dce50b8...</td>\n      <td>[0502869002, 0750481010, 0757971006, 057104800...</td>\n    </tr>\n  </tbody>\n</table>\n</div>"
          },
          "metadata": {}
        }
      ]
    },
    {
      "cell_type": "markdown",
      "source": [
        "# <p style=\"background-color:#f7e9ec;font-family:newtimeroman;color:#d90b1c;font-size:150%;text-align:center;border-radius:10px 10px;border-style:solid;border-color:#d90b1c;\">Please do leave your comments /suggestions and if you like this kernel greatly appreciate to UPVOTE</p>"
      ],
      "metadata": {
        "id": "kzvHN9GK38xR"
      }
    }
  ]
}